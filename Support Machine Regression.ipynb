{
 "cells": [
  {
   "cell_type": "code",
   "execution_count": 1,
   "metadata": {},
   "outputs": [],
   "source": [
    "import pandas as pd\n",
    "import matplotlib.pyplot as plt\n",
    "import seaborn as sns\n",
    "import numpy as np\n",
    "from sklearn.preprocessing import StandardScaler, RobustScaler\n",
    "from scipy import stats\n",
    "import math\n",
    "from sklearn.linear_model import LinearRegression\n",
    "from sklearn.ensemble import RandomForestRegressor\n",
    "from sklearn.metrics import mean_squared_error, r2_score, accuracy_score, median_absolute_error\n",
    "from sklearn.model_selection import train_test_split\n",
    "from sklearn.model_selection import cross_val_score, KFold, RandomizedSearchCV, GridSearchCV\n",
    "\n",
    "pd.set_option('display.max_columns', 100)\n",
    "pd.set_option('display.max_rows', 100)\n",
    "\n",
    "from helper_functions import *\n",
    "\n",
    "train = pd.read_csv(\"train.csv\")\n",
    "test = pd.read_csv(\"test.csv\")"
   ]
  },
  {
   "cell_type": "code",
   "execution_count": 2,
   "metadata": {},
   "outputs": [],
   "source": [
    "from sklearn.svm import SVR\n",
    "from sklearn.preprocessing import StandardScaler\n",
    "from sklearn.pipeline import Pipeline\n",
    "\n",
    "features = ['YearBuilt','GarageArea','OverallQual', 'GrLivArea', 'TotalBsmtSF', 'FullBath','SalePrice']\n",
    "train_reduced = pd.read_csv('train.csv')[features].copy()\n",
    "\n",
    "y = train_reduced['SalePrice']\n",
    "X = train_reduced[features]\n",
    "\n",
    "train_X, test_X, train_y, test_y = train_test_split(X, y, test_size = 0.2)"
   ]
  },
  {
   "cell_type": "code",
   "execution_count": 3,
   "metadata": {},
   "outputs": [],
   "source": [
    "from sklearn.metrics import mean_squared_error\n",
    "\n",
    "def eval_model(model, test_X, test_y, log = True):\n",
    "    print('test score = ' + str(model.score(test_X, test_y)))\n",
    "\n",
    "    pred_y = model.predict(test_X)\n",
    "    if log == True:\n",
    "        rmse = math.sqrt(mean_squared_error(np.exp(test_y), np.exp(pred_y)))\n",
    "    else:\n",
    "        rmse = math.sqrt(mean_squared_error(test_y, pred_y))\n",
    "    rmse = math.sqrt(mean_squared_error(test_y, pred_y))\n",
    "    print('rmse = ' + str(rmse))"
   ]
  },
  {
   "cell_type": "code",
   "execution_count": 4,
   "metadata": {},
   "outputs": [
    {
     "name": "stdout",
     "output_type": "stream",
     "text": [
      "train score = 0.9932718069191904\n"
     ]
    }
   ],
   "source": [
    "#svr_lin = SVR(kernel='linear', C=100, gamma='auto')\n",
    "svr_lin = SVR(kernel='linear')\n",
    "svr_lin.fit(train_X, train_y)\n",
    "print('train score = ' + str(svr_lin.score(train_X, train_y)))"
   ]
  },
  {
   "cell_type": "code",
   "execution_count": 5,
   "metadata": {},
   "outputs": [
    {
     "name": "stdout",
     "output_type": "stream",
     "text": [
      "test score = 0.993646160697614\n",
      "rmse = 5671.360291917996\n"
     ]
    }
   ],
   "source": [
    "eval_model(svr_lin, test_X, test_y, False)"
   ]
  },
  {
   "cell_type": "code",
   "execution_count": 6,
   "metadata": {},
   "outputs": [
    {
     "name": "stdout",
     "output_type": "stream",
     "text": [
      "train score = -0.061819329273819834\n"
     ]
    }
   ],
   "source": [
    "#svr_rbf = SVR(kernel='rbf', C=100, gamma=0.1, epsilon=.1)\n",
    "svr_rbf = SVR(kernel='rbf')\n",
    "svr_rbf.fit(train_X, train_y)\n",
    "print('train score = ' + str(svr_rbf.score(train_X, train_y)))"
   ]
  },
  {
   "cell_type": "code",
   "execution_count": 7,
   "metadata": {},
   "outputs": [
    {
     "name": "stdout",
     "output_type": "stream",
     "text": [
      "test score = -0.10071888133875052\n",
      "rmse = 74646.13620909587\n"
     ]
    }
   ],
   "source": [
    "eval_model(svr_rbf, test_X, test_y,False)"
   ]
  },
  {
   "cell_type": "code",
   "execution_count": null,
   "metadata": {},
   "outputs": [],
   "source": [
    "#svr_poly = SVR(kernel='poly', C=100, gamma='auto', degree=3, epsilon=.1, coef0=1)\n",
    "svr_poly = SVR(kernel='poly')\n",
    "svr_poly.fit(train_X, train_y)\n",
    "print('train score = ' + str(svr_poly.score(train_X, train_y)))"
   ]
  },
  {
   "cell_type": "code",
   "execution_count": null,
   "metadata": {},
   "outputs": [],
   "source": [
    "eval_model(svr_poly, test_X, test_y, False)"
   ]
  }
 ],
 "metadata": {
  "kernelspec": {
   "display_name": "Python 3",
   "language": "python",
   "name": "python3"
  },
  "language_info": {
   "codemirror_mode": {
    "name": "ipython",
    "version": 3
   },
   "file_extension": ".py",
   "mimetype": "text/x-python",
   "name": "python",
   "nbconvert_exporter": "python",
   "pygments_lexer": "ipython3",
   "version": "3.7.3"
  }
 },
 "nbformat": 4,
 "nbformat_minor": 2
}
